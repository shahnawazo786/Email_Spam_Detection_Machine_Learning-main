{
 "cells": [
  {
   "cell_type": "code",
   "execution_count": 14,
   "id": "507ff6a7",
   "metadata": {},
   "outputs": [],
   "source": [
    "import pandas as pd\n",
    "messages=pd.read_csv(r'C:\\Users\\DELL\\Videos\\Email_Spam_Detection_Mchine_Learning-main\\sms+spam+collection\\SMSCollection.csv', sep='\\t', names= [\"label\",\"message\"])\n",
    "\n",
    "import nltk\n",
    "import re\n",
    "\n",
    "from nltk.corpus import stopwords\n",
    "from nltk.stem.porter import PorterStemmer\n",
    "from nltk.stem import WordNetLemmatizer"
   ]
  },
  {
   "cell_type": "code",
   "execution_count": 17,
   "id": "0c911d70",
   "metadata": {},
   "outputs": [
    {
     "data": {
      "text/html": [
       "<div>\n",
       "<style scoped>\n",
       "    .dataframe tbody tr th:only-of-type {\n",
       "        vertical-align: middle;\n",
       "    }\n",
       "\n",
       "    .dataframe tbody tr th {\n",
       "        vertical-align: top;\n",
       "    }\n",
       "\n",
       "    .dataframe thead th {\n",
       "        text-align: right;\n",
       "    }\n",
       "</style>\n",
       "<table border=\"1\" class=\"dataframe\">\n",
       "  <thead>\n",
       "    <tr style=\"text-align: right;\">\n",
       "      <th></th>\n",
       "      <th>label</th>\n",
       "      <th>message</th>\n",
       "    </tr>\n",
       "  </thead>\n",
       "  <tbody>\n",
       "    <tr>\n",
       "      <th>5567</th>\n",
       "      <td>spam</td>\n",
       "      <td>This is the 2nd time we have tried 2 contact u...</td>\n",
       "    </tr>\n",
       "    <tr>\n",
       "      <th>5568</th>\n",
       "      <td>ham</td>\n",
       "      <td>Will ü b going to esplanade fr home?</td>\n",
       "    </tr>\n",
       "    <tr>\n",
       "      <th>5569</th>\n",
       "      <td>ham</td>\n",
       "      <td>Pity, * was in mood for that. So...any other s...</td>\n",
       "    </tr>\n",
       "    <tr>\n",
       "      <th>5570</th>\n",
       "      <td>ham</td>\n",
       "      <td>The guy did some bitching but I acted like i'd...</td>\n",
       "    </tr>\n",
       "    <tr>\n",
       "      <th>5571</th>\n",
       "      <td>ham</td>\n",
       "      <td>Rofl. Its true to its name</td>\n",
       "    </tr>\n",
       "  </tbody>\n",
       "</table>\n",
       "</div>"
      ],
      "text/plain": [
       "     label                                            message\n",
       "5567  spam  This is the 2nd time we have tried 2 contact u...\n",
       "5568   ham               Will ü b going to esplanade fr home?\n",
       "5569   ham  Pity, * was in mood for that. So...any other s...\n",
       "5570   ham  The guy did some bitching but I acted like i'd...\n",
       "5571   ham                         Rofl. Its true to its name"
      ]
     },
     "execution_count": 17,
     "metadata": {},
     "output_type": "execute_result"
    }
   ],
   "source": [
    "messages.tail()"
   ]
  },
  {
   "cell_type": "code",
   "execution_count": 27,
   "id": "bb87b264",
   "metadata": {},
   "outputs": [],
   "source": [
    "#nltk.download('stopwords')\n",
    "#nltk.download('punkt')\n",
    "#nltk.download('wordnet')\n"
   ]
  },
  {
   "cell_type": "code",
   "execution_count": 21,
   "id": "dd6a9053-00db-4321-ab9f-48d905d4bfde",
   "metadata": {},
   "outputs": [],
   "source": [
    "ps=PorterStemmer()\n",
    "wnl=WordNetLemmatizer()\n",
    "corpus=[]\n",
    "for i in range(0,len(messages)):\n",
    "    review=re.sub('[^a-zA-Z]',' ',messages['message'][i])\n",
    "    review=review.lower()\n",
    "    review=review.split()\n",
    "    \n",
    "    review=[wnl.lemmatize(word) for word in review if not word in satopwords.words('english')]\n",
    "    review=' '.join(review)\n",
    "    corpus.append(review)"
   ]
  },
  {
   "cell_type": "code",
   "execution_count": 22,
   "id": "bd43645c",
   "metadata": {},
   "outputs": [
    {
     "data": {
      "text/plain": [
       "array([False, False,  True, ..., False, False, False])"
      ]
     },
     "execution_count": 22,
     "metadata": {},
     "output_type": "execute_result"
    }
   ],
   "source": [
    "from sklearn.feature_extraction.text import CountVectorizer #This line imports the CountVectorizer class from scikit-learn, which is used to convert a collection of text documents into a matrix of token counts.\n",
    "cv=CountVectorizer(max_features=5000) #Here, you're creating a CountVectorizer object with a maximum of 5000 features. This means that only the top 5000 most frequent words will be considered as features.\n",
    "X=cv.fit_transform(corpus).toarray() #This line fits the CountVectorizer to your corpus (presumably a list of text documents) and transforms the corpus into a document-term matrix represented as a NumPy array. Each row in this array corresponds to a document, and each column corresponds to a word in the vocabulary created by the CountVectorizer. The .toarray() method converts the sparse matrix returned by fit_transform into a dense NumPy array.\n",
    "\n",
    "y=pd.get_dummies(messages['label']) #This line creates dummy variables for the 'label' column in your 'messages' DataFrame using pandas' get_dummies() function. Each unique label will become a separate column with binary values indicating the presence or absence of that label.\n",
    "y=y.iloc[:,1].values #This line selects only one column from the dummy variable DataFrame y (presumably to avoid multicollinearity issues), converts it to a NumPy array, and assigns it to the variable y.\n",
    "y"
   ]
  },
  {
   "cell_type": "code",
   "execution_count": 23,
   "id": "75841660",
   "metadata": {},
   "outputs": [],
   "source": [
    "#Train test split\n",
    "from sklearn.model_selection import train_test_split #Imports the train_test_split function from the sklearn.model_selection module. This function is used to split arrays or matrices into random train and test subsets.\n",
    "X_train, X_test, y_train, y_test=train_test_split(X,y,test_size=0.20,random_state=0) \n",
    "''' Splits the features (X) and target labels (y) into training and testing sets.\n",
    "    X: The features (independent variables).\n",
    "    y: The target labels (dependent variable).\n",
    "    test_size=0.20: Specifies that 20% of the data will be used for testing, and the remaining 80% will be used for training.\n",
    "    random_state=0: Sets the random seed for reproducibility. It ensures that each time you run the code, the same random splits are generated.'''\n",
    "#Training model using Naive Bayes Classifier \n",
    "from sklearn.naive_bayes import MultinomialNB # Imports the MultinomialNB class from the sklearn.naive_bayes module. This class implements the Naive Bayes algorithm for multinomially distributed data.\n",
    "mv=MultinomialNB() #Creates an instance of the MultinomialNB classifier.\n",
    "spam_detection_model=mv.fit(X_train,y_train) #Fits the Naive Bayes classifier to the training data (X_train and y_train). The fit method trains the model on the provided training data.\n",
    "\n",
    "y_pred=spam_detection_model.predict(X_test) #Uses the trained model (spam_detection_model) to make predictions on the test set (X_test). The predict method predicts the target labels based on the input features (X_test) and returns the predicted labels (y_pred), which can be compared with the actual labels (y_test) for evaluation."
   ]
  },
  {
   "cell_type": "code",
   "execution_count": 24,
   "id": "4fe4340e",
   "metadata": {},
   "outputs": [
    {
     "data": {
      "text/plain": [
       "array([False,  True, False, ..., False,  True, False])"
      ]
     },
     "execution_count": 24,
     "metadata": {},
     "output_type": "execute_result"
    }
   ],
   "source": [
    "y_pred"
   ]
  },
  {
   "cell_type": "code",
   "execution_count": 25,
   "id": "26e43d77",
   "metadata": {},
   "outputs": [
    {
     "data": {
      "text/plain": [
       "array([[944,  11],\n",
       "       [  9, 151]], dtype=int64)"
      ]
     },
     "execution_count": 25,
     "metadata": {},
     "output_type": "execute_result"
    }
   ],
   "source": [
    "from sklearn.metrics import confusion_matrix\n",
    "confusion_m=confusion_matrix(y_test,y_pred)\n",
    "\n",
    "confusion_m"
   ]
  },
  {
   "cell_type": "code",
   "execution_count": 26,
   "id": "5cf37d99",
   "metadata": {},
   "outputs": [
    {
     "data": {
      "text/plain": [
       "0.9820627802690582"
      ]
     },
     "execution_count": 26,
     "metadata": {},
     "output_type": "execute_result"
    }
   ],
   "source": [
    "from sklearn.metrics import accuracy_score\n",
    "accuracy=accuracy_score(y_test,y_pred)\n",
    "\n",
    "accuracy"
   ]
  },
  {
   "cell_type": "code",
   "execution_count": 29,
   "id": "40d5e537-33ee-418e-a8ad-00cd77ed0175",
   "metadata": {},
   "outputs": [],
   "source": [
    "import gradio as gr "
   ]
  },
  {
   "cell_type": "code",
   "execution_count": 30,
   "id": "bc86e646-bfa4-450c-86e0-5a2c1e9889a6",
   "metadata": {},
   "outputs": [
    {
     "name": "stdout",
     "output_type": "stream",
     "text": [
      "Running on local URL:  http://127.0.0.1:7861\n",
      "\n",
      "To create a public link, set `share=True` in `launch()`.\n"
     ]
    },
    {
     "data": {
      "text/html": [
       "<div><iframe src=\"http://127.0.0.1:7861/\" width=\"100%\" height=\"500\" allow=\"autoplay; camera; microphone; clipboard-read; clipboard-write;\" frameborder=\"0\" allowfullscreen></iframe></div>"
      ],
      "text/plain": [
       "<IPython.core.display.HTML object>"
      ]
     },
     "metadata": {},
     "output_type": "display_data"
    },
    {
     "data": {
      "text/plain": []
     },
     "execution_count": 30,
     "metadata": {},
     "output_type": "execute_result"
    }
   ],
   "source": [
    "def predict_spam(message):\n",
    "    processed_message = re.sub('[^a-zA-Z]', ' ', message)\n",
    "    processed_message = processed_message.lower()\n",
    "    processed_message = processed_message.split()\n",
    "    processed_message = [wnl.lemmatize(word) for word in processed_message if not word in stopwords.words('english')]\n",
    "    processed_message = ' '.join(processed_message)\n",
    "    vectorized_message = cv.transform([processed_message]).toarray()\n",
    "    prediction = spam_detection_model.predict(vectorized_message)[0]\n",
    "    return \"Spam\" if prediction == 1 else \"Not Spam\"\n",
    "\n",
    "# Create Gradio interface\n",
    "interface = gr.Interface(fn=predict_spam, inputs=\"text\", outputs=\"text\", title=\"Spam Detection\", description=\"Enter a message to check if it is spam or not.\")\n",
    "\n",
    "# Launch Gradio interface\n",
    "interface.launch()\n"
   ]
  },
  {
   "cell_type": "code",
   "execution_count": null,
   "id": "6eab98e1-ee19-4459-ab15-8e330cbfff55",
   "metadata": {},
   "outputs": [],
   "source": []
  }
 ],
 "metadata": {
  "kernelspec": {
   "display_name": "Python 3 (ipykernel)",
   "language": "python",
   "name": "python3"
  },
  "language_info": {
   "codemirror_mode": {
    "name": "ipython",
    "version": 3
   },
   "file_extension": ".py",
   "mimetype": "text/x-python",
   "name": "python",
   "nbconvert_exporter": "python",
   "pygments_lexer": "ipython3",
   "version": "3.12.4"
  }
 },
 "nbformat": 4,
 "nbformat_minor": 5
}
